{
 "cells": [
  {
   "cell_type": "markdown",
   "metadata": {},
   "source": [
    "Question 1\n",
    "What data type is each of the following (evaluate where necessary)?"
   ]
  },
  {
   "cell_type": "code",
   "execution_count": 3,
   "metadata": {},
   "outputs": [
    {
     "name": "stdout",
     "output_type": "stream",
     "text": [
      "<class 'int'>\n",
      "<class 'float'>\n",
      "<class 'bool'>\n",
      "<class 'str'>\n",
      "<class 'int'>\n",
      "<class 'str'>\n",
      "<class 'str'>\n",
      "<class 'float'>\n",
      "<class 'int'>\n",
      "<class 'set'>\n",
      "<class 'bool'>\n",
      "<class 'float'>\n"
     ]
    }
   ],
   "source": [
    "print( type(5))\n",
    "print( type(5.0))\n",
    "print( type(5 > 1))\n",
    "print( type('5'))\n",
    "print( type(5 * 2))\n",
    "print( type('5' * 2))\n",
    "print( type('5' + '2'))\n",
    "print( type(5 / 2))\n",
    "print( type(5 % 2))\n",
    "print( type({5, 2, 1}))\n",
    "print( type(5 == 3))\n",
    "print( type(3.1415916535897743))\n"
   ]
  },
  {
   "cell_type": "markdown",
   "metadata": {},
   "source": [
    "Question 2 \n",
    "a. How many letters are there in 'Supercalifragilisticexpialidocious'?"
   ]
  },
  {
   "cell_type": "code",
   "execution_count": 5,
   "metadata": {},
   "outputs": [
    {
     "name": "stdout",
     "output_type": "stream",
     "text": [
      "34\n"
     ]
    }
   ],
   "source": [
    "sentenceString = 'Supercalifragilisticexpialidocious'\n",
    "print(len(sentenceString))"
   ]
  },
  {
   "cell_type": "markdown",
   "metadata": {},
   "source": [
    "Question 2 \n",
    "b. Does 'Supercalifragilisticexpialidocious' contain 'ice' as a substring? "
   ]
  },
  {
   "cell_type": "code",
   "execution_count": 11,
   "metadata": {},
   "outputs": [
    {
     "name": "stdout",
     "output_type": "stream",
     "text": [
      "ice is subString of Supercalifragilisticexpialidocious\n"
     ]
    }
   ],
   "source": [
    "sentenceString = 'Supercalifragilisticexpialidocious'\n",
    "  \n",
    "if (sentenceString.find('ice') != -1):\n",
    "    print (\"ice is subString of \" + sentenceString)\n",
    "else:\n",
    "    print (\"ice is not subString of \" + sentenceString)"
   ]
  },
  {
   "cell_type": "markdown",
   "metadata": {},
   "source": [
    "Question 2 \n",
    "c. Which of the following words is the longest:Supercalifragilisticexpialidocious, Honorificabilitudinitatibus,or Bababadalgharaghtakamminarronnkonn? "
   ]
  },
  {
   "cell_type": "code",
   "execution_count": 12,
   "metadata": {},
   "outputs": [
    {
     "name": "stdout",
     "output_type": "stream",
     "text": [
      "Supercalifragilisticexpialidocious\n"
     ]
    }
   ],
   "source": [
    "sentenceStringList = [\"Supercalifragilisticexpialidocious\", \"Honorificabilitudinitatibus\", \"Bababadalgharaghtakamminarronnkonn\"]\n",
    "longest = max(sentenceStringList, key=len)\n",
    "print(longest)\n"
   ]
  },
  {
   "cell_type": "markdown",
   "metadata": {},
   "source": [
    "Question 2 \n",
    "d. Which composer comes first in the dictionary: 'Berlioz', 'Borodin', 'Brian','Bartok', 'Bellini', 'Buxtehude', 'Bernstein'. Which one comes last?"
   ]
  },
  {
   "cell_type": "code",
   "execution_count": 18,
   "metadata": {},
   "outputs": [
    {
     "name": "stdout",
     "output_type": "stream",
     "text": [
      "['Bartok', 'Bellini', 'Berlioz', 'Bernstein', 'Borodin', 'Brian', 'Buxtehude']\n",
      " composer comes first in the given dictionary is Bartok\n",
      " composer comes last in the given dictionary is Buxtehude\n"
     ]
    }
   ],
   "source": [
    "composerList = ['Berlioz', 'Borodin', 'Brian','Bartok', 'Bellini', 'Buxtehude', 'Bernstein']\n",
    "composerList.sort()\n",
    "print(composerList)\n",
    "print(' composer comes first in the given dictionary is ' + composerList[0])\n",
    "print(' composer comes last in the given dictionary is ' + composerList[len(composerList)-1])"
   ]
  },
  {
   "cell_type": "markdown",
   "metadata": {},
   "source": [
    "Question 3\n",
    "Implement function triangleArea(a,b,c) that takes as input the lengths of the 3\n",
    "sides of a triangle and returns the area of the triangle. By Heron's formula, the area\n",
    "of a triangle with side lengths a, b, and c is\n",
    "s(s - a)(s -b)(s -c) , where s = (a+b+c)/2."
   ]
  },
  {
   "cell_type": "code",
   "execution_count": 20,
   "metadata": {},
   "outputs": [
    {
     "name": "stdout",
     "output_type": "stream",
     "text": [
      "1.7320508075688772\n"
     ]
    }
   ],
   "source": [
    "import math\n",
    "def triangleArea(a, b, c):\n",
    "    s = (a + b + c) / 2\n",
    "    areaFormula = math.sqrt((s*(s-a)*(s-b)*(s-c)))\n",
    "    print(areaFormula)\n",
    "triangleArea(2,2,2)\n"
   ]
  },
  {
   "cell_type": "markdown",
   "metadata": {},
   "source": [
    "Question 4 \n",
    "Write a program in python to separate odd and even integers in separate arrays. Go\n",
    "to the editor\n",
    "Test Data :\n",
    "Input the number of elements to be stored in the array :5\n",
    "Input 5 elements in the array :\n",
    "element - 0 : 25\n",
    "element - 1 : 47\n",
    "element - 2 : 42\n",
    "element - 3 : 56\n",
    "element - 4 : 32\n",
    "Expected Output:\n",
    "The Even elements are:\n",
    "42 56 32\n",
    "The Odd elements are :\n",
    "25 47"
   ]
  },
  {
   "cell_type": "code",
   "execution_count": 26,
   "metadata": {},
   "outputs": [
    {
     "name": "stdout",
     "output_type": "stream",
     "text": [
      "Input the number of elements to be stored in the array : 5\n",
      "Input  5 elements in the array : \n",
      " Element - 0 : 25\n",
      " Element - 1 : 47\n",
      " Element - 2 : 42\n",
      " Element - 3 : 56\n",
      " Element - 4 : 32\n",
      "Element in even List is : \n",
      " [42, 56, 32]\n",
      "Element in odd List is : \n",
      " [25, 47]\n"
     ]
    }
   ],
   "source": [
    "numberList = []\n",
    "evennumberList = []\n",
    "oddnumberList = []\n",
    " \n",
    "Number = int(input(\"Input the number of elements to be stored in the array : \"))\n",
    "print(\"Input \" , Number , \"elements in the array : \" )\n",
    "\n",
    "for i in range(0, Number):\n",
    "    value = int(input(\" Element - %d : \" %i))\n",
    "    numberList.append(value)\n",
    " \n",
    "for j in range(Number):\n",
    "    if(numberList[j] % 2 == 0):\n",
    "        evennumberList.append(numberList[j])\n",
    "    else:\n",
    "        oddnumberList.append(numberList[j])\n",
    " \n",
    "print(\"Element in even List is : \\n\", evennumberList)\n",
    "print(\"Element in odd List is : \\n\", oddnumberList)"
   ]
  },
  {
   "cell_type": "markdown",
   "metadata": {},
   "source": [
    "Question 5 \n",
    "a. Write a function inside(x,y,x1,y1,x2,y2) that returns True or False\n",
    "depending on whether the point (x,y) lies in the rectangle with lower left\n",
    "corner (x1,y1) and upper right corner (x2,y2).\n",
    ">>> inside(1,1,0,0,2,3)\n",
    "True\n",
    ">>> inside(-1,-1,0,0,2,3)\n",
    "False\n",
    "\n",
    "b. Use function inside() from part a. to write an expression that tests whether\n",
    "the point (1,1) lies in both of the following rectangles: one with lower left\n",
    "corner (0.3, 0.5) and upper right corner (1.1, 0.7) and the other with lower\n",
    "left corner (0.5, 0.2) and upper right corner (1.1, 2). \n"
   ]
  },
  {
   "cell_type": "code",
   "execution_count": 67,
   "metadata": {},
   "outputs": [
    {
     "name": "stdout",
     "output_type": "stream",
     "text": [
      "Enter x value:1\n",
      "Enter y value:1\n",
      "Enter x1 value:2\n",
      "Enter y1 value:2\n",
      "Enter x2 value:3\n",
      "Enter y2 value:3\n",
      "part A: False\n",
      "part B first set : False\n",
      "part B seccond set : True\n"
     ]
    }
   ],
   "source": [
    "x = float(input('Enter x value:'))\n",
    "y = float(input('Enter y value:'))\n",
    "x1 = float(input('Enter x1 value:'))\n",
    "y1 = float(input('Enter y1 value:'))\n",
    "x2 = float(input('Enter x2 value:'))\n",
    "y2 = float(input('Enter y2 value:'))\n",
    "\n",
    "def inside(x,y,x1,y1,x2,y2):\n",
    "    if x >= x1 and x <= x2 and y >= y1 and y <=y2 :\n",
    "        return True\n",
    "    return False\n",
    "print('part A:', inside(x,y,x1,y1,x2,y2))\n",
    "print('part B first set :', inside(1,1,0.3,0.5,1.1,0.7))\n",
    "print('part B seccond set :', inside(1,1,0.5,0.2,1.1,2))"
   ]
  },
  {
   "cell_type": "markdown",
   "metadata": {},
   "source": [
    "Question 6\n",
    "You can turn a word into pig-Latin using the following two rules (simplified):\n",
    "• If the word starts with a consonant, move that letter to the end and append\n",
    "'ay'. For example, 'happy' becomes 'appyhay' and 'pencil' becomes 'encilpay'.\n",
    "• If the word starts with a vowel, simply append 'way' to the end of the word.\n",
    "For example, 'enter' becomes 'enterway' and 'other' becomes 'otherway' . For\n",
    "our purposes, there are 5 vowels: a, e, i, o, u (so we count y as a consonant).\n",
    "Write a function pig() that takes a word (i.e., a string) as input and returns its pigLatin form. Your function should still work if the input word contains upper case\n",
    "characters. Your output should always be lower case however.\n",
    ">>> pig('happy')\n",
    "'appyhay'\n",
    ">>> pig('Enter')\n",
    "'enterway'"
   ]
  },
  {
   "cell_type": "code",
   "execution_count": 72,
   "metadata": {},
   "outputs": [
    {
     "name": "stdout",
     "output_type": "stream",
     "text": [
      "happy\n",
      "inPut : happy\n",
      "outPut : appyhay\n",
      "\n"
     ]
    }
   ],
   "source": [
    "inputString = str(input())\n",
    "print(\"inPut :\",inputString)\n",
    "def pig(inputString):\n",
    "  pigChar = inputString.split()\n",
    "  pigLatin = []\n",
    "  vowels = ['a','e','i','o','u']\n",
    "\n",
    "  for pigChar in pigChar:\n",
    "    if pigChar[0].lower() in vowels:\n",
    "        print(\"outPut :\",pigChar.lower() + 'way')\n",
    "    else:\n",
    "        first_letter = pigChar[0]\n",
    "        print(\"outPut :\",pigChar[1:].lower()+first_letter.lower()+'ay')\n",
    "\n",
    "  return ' '.join(pigLatin)\n",
    "\n",
    "print(pig(inputString))\n"
   ]
  },
  {
   "cell_type": "markdown",
   "metadata": {},
   "source": [
    "Question 7\n",
    "File bloodtype1.txt records blood-types of patients (A, B, AB, O or OO) at a clinic.\n",
    "Write a function bldcount() that reads the file with name name and reports (i.e.,\n",
    "prints) how many patients there are in each bloodtype.\n",
    ">>> bldcount('bloodtype.txt')\n",
    "There are 10 patients of blood type A.\n",
    "There is one patient of blood type B.\n",
    "There are 10 patients of blood type AB.\n",
    "There are 12 patients of blood type O.\n",
    "There are no patients of blood type OO.\n"
   ]
  },
  {
   "cell_type": "code",
   "execution_count": 77,
   "metadata": {},
   "outputs": [
    {
     "name": "stdout",
     "output_type": "stream",
     "text": [
      "There are 15 patients of blood type A.\n",
      "There are 1 patients of blood type B.\n",
      "There are 13 patients of blood type AB.\n",
      "There are 15 patients of blood type O.\n",
      "There are 0 patients of blood type OO.\n",
      "None\n"
     ]
    }
   ],
   "source": [
    "def bldcount(filename):\n",
    "    \n",
    "    bloodTypeFile = open(filename,'r')\n",
    "    groupsFromFIle = bloodTypeFile.readline()\n",
    "    bloodGroupsList = []\n",
    "    patientBloodTypes = ['A','B','AB','O','OO']\n",
    "    bloodGroupsList.append(groupsFromFIle.split(\" \"))\n",
    "\n",
    "    for bloodType in patientBloodTypes:\n",
    "        print(\"There are {} patients of blood type {}.\".format(bloodGroupsList[0].count(bloodType),bloodType))\n",
    "        \n",
    "print(bldcount('bloodtype1.txt'))"
   ]
  },
  {
   "cell_type": "markdown",
   "metadata": {},
   "source": [
    "Question 8\n",
    "Write a function curconv() that takes as input:\n",
    "1. a currency represented using a string (e.g., 'JPY' for the Japanese Yen or\n",
    "'EUR' for the Euro)\n",
    "2. an amount\n",
    "and then converts and returns the amount in US dollars.\n",
    ">>> curconv('EUR', 100)\n",
    "122.96544\n",
    ">>> curconv('JPY', 100)\n",
    "1.241401"
   ]
  },
  {
   "cell_type": "code",
   "execution_count": 44,
   "metadata": {},
   "outputs": [
    {
     "name": "stdout",
     "output_type": "stream",
     "text": [
      "122.96544\n",
      "1.241401\n"
     ]
    }
   ],
   "source": [
    "def curconv(currency,amount):\n",
    "    currencies = {}\n",
    "    \n",
    "    curr_file = open('currencies.txt')\n",
    "    lines = curr_file.readlines()\n",
    "    \n",
    "    for x in lines:\n",
    "        currencies[x[:3].strip()] = x[4:].split(\"\\t\")\n",
    "    value = currencies[currency][0].strip()\n",
    "    print(amount * float(value))\n",
    "    \n",
    "curconv('EUR', 100)  \n",
    "curconv('JPY', 100)"
   ]
  },
  {
   "cell_type": "code",
   "execution_count": null,
   "metadata": {},
   "outputs": [],
   "source": [
    "Question 9 \n",
    "Each of the following will cause an exception (an error). Identify what type of exception each will cause.\n",
    "Trying to add incompatible variables, as in adding 6 + ‘a’ \n",
    "Referring to the 12th item of a list that has only 10 items \n",
    "Using a value that is out of range for a function’s input, such as calling math.sqrt(-1.0) \n",
    "Using an undeclared variable, such as print(x) when x has not been defined\n",
    "Trying to open a file that does not exist, such as mistyping the file name or looking in the wrong directory.\n",
    "\n",
    "Exceptions:\n",
    "Trying to add incompatible variables, as in adding 6 + ‘a’\n",
    "Unsupported type \n",
    "Referring to the 12th item of a list that has only 10 items \n",
    "Out of index \n",
    "Using a value that is out of range for a function’s input, such as calling math.sqrt(-1.0)\n",
    "domain error \n",
    "Using an undeclared variable, such as print(x) when x has not been defined \n",
    "variable not defined \n",
    "Trying to open a file that does not exist, such as mistyping the file name or looking in the wrong directory. \n",
    "No such directory found"
   ]
  },
  {
   "cell_type": "code",
   "execution_count": 45,
   "metadata": {},
   "outputs": [
    {
     "ename": "SyntaxError",
     "evalue": "invalid syntax (1039303066.py, line 1)",
     "output_type": "error",
     "traceback": [
      "\u001b[1;36m  Input \u001b[1;32mIn [45]\u001b[1;36m\u001b[0m\n\u001b[1;33m    Question 10\u001b[0m\n\u001b[1;37m             ^\u001b[0m\n\u001b[1;31mSyntaxError\u001b[0m\u001b[1;31m:\u001b[0m invalid syntax\n"
     ]
    }
   ],
   "source": [
    "Question 10\n",
    "Encryption is the process of hiding the meaning of a text by substituting letters in the\n",
    "message with other letters, according to some system. If the process is successful, no\n",
    "one but the intended recipient can understand the encrypted message. Cryptanalysis\n",
    "refers to attempts to undo the encryption, even if some details of the encryption are\n",
    "unknown (for example, if an encrypted message has been intercepted). The first step\n",
    "of cryptanalysis is often to build up a table of letter frequencies in the encrypted text.\n",
    "Assume that the string letters is already defined as\n",
    "'abcdefghijklmnopqrstuvwxyz'. Write a function called frequencies()\n",
    "that takes a string as its only parameter, and returns a list of integers, showing the\n",
    "number of times each character appears in the text. Your function may ignore any\n",
    "characters that are not in letters.\n",
    ">>> frequencies('The quick red fox got bored and went home.')\n",
    "[1, 1, 1, 3, 5, 1, 1, 2, 1, 0, 1, 0, 1, 2, 4, 0, 1, 2, 0, 2,\n",
    "1, 0, 1, 1, 0, 0]\n",
    ">>> frequencies('apple')"
   ]
  },
  {
   "cell_type": "code",
   "execution_count": 87,
   "metadata": {},
   "outputs": [],
   "source": [
    "def frequencies(text):\n",
    "    \n",
    "    alphabets = ('a','b','c','d','e','f','g','h','i','j','k','l','m','n','o','p','q','r','s','t','u','v','w','x','y','z')\n",
    "    total_characters = []\n",
    "    alpha_dict = {}\n",
    "    for word in text:\n",
    "        for char in word:\n",
    "            if char.isalpha():\n",
    "                total_characters.append(char)\n",
    "    for char in alphabets:\n",
    "        if char in total_characters:\n",
    "            alpha_dict[char] = total_characters.count(char)\n",
    "        else:\n",
    "            alpha_dict[char] = 0\n",
    "            \n",
    "    print(list(alpha_dict.values()))\n",
    "#print())\n",
    "#print(frequencies(\"Apple\"))"
   ]
  },
  {
   "cell_type": "code",
   "execution_count": 89,
   "metadata": {},
   "outputs": [
    {
     "name": "stdout",
     "output_type": "stream",
     "text": [
      "[1, 1, 1, 3, 5, 1, 1, 2, 1, 0, 1, 0, 1, 2, 4, 0, 1, 2, 0, 2, 1, 0, 1, 1, 0, 0]\n"
     ]
    }
   ],
   "source": [
    "frequencies(\"The quick red fox got bored and went home\")"
   ]
  },
  {
   "cell_type": "code",
   "execution_count": 90,
   "metadata": {},
   "outputs": [
    {
     "name": "stdout",
     "output_type": "stream",
     "text": [
      "[0, 0, 0, 0, 1, 0, 0, 0, 0, 0, 0, 1, 0, 0, 0, 2, 0, 0, 0, 0, 0, 0, 0, 0, 0, 0]\n"
     ]
    }
   ],
   "source": [
    "frequencies(\"Apple\")"
   ]
  }
 ],
 "metadata": {
  "kernelspec": {
   "display_name": "Python 3 (ipykernel)",
   "language": "python",
   "name": "python3"
  },
  "language_info": {
   "codemirror_mode": {
    "name": "ipython",
    "version": 3
   },
   "file_extension": ".py",
   "mimetype": "text/x-python",
   "name": "python",
   "nbconvert_exporter": "python",
   "pygments_lexer": "ipython3",
   "version": "3.9.12"
  }
 },
 "nbformat": 4,
 "nbformat_minor": 4
}
